{
 "cells": [
  {
   "cell_type": "code",
   "execution_count": 16,
   "metadata": {
    "collapsed": true
   },
   "outputs": [],
   "source": [
    "#sample = sc.textFile(\"file:///home/hadoop/Jiaoyan/ds504-project/output1/expanded-data.csv\")\n",
    "#sample = textFile.sample(False, 0.5, 12345)\n",
    "#sample.saveAsTextFile(\"file:///home/hadoop/Jiaoyan/ds504-project/sample\")"
   ]
  },
  {
   "cell_type": "code",
   "execution_count": 4,
   "metadata": {
    "collapsed": true
   },
   "outputs": [],
   "source": [
    "from pyspark.sql import Row\n",
    "from pyspark.sql import SparkSession\n",
    "\n",
    "spark = SparkSession \\\n",
    "    .builder \\\n",
    "    .appName(\"Python Spark SQL basic example\") \\\n",
    "    .config(\"spark.some.config.option\", \"some-value\") \\\n",
    "    .getOrCreate()"
   ]
  },
  {
   "cell_type": "code",
   "execution_count": 5,
   "metadata": {
    "collapsed": true
   },
   "outputs": [],
   "source": [
    "filename = \"file:///home/hadoop/Jiaoyan/ds504-project/merge.csv\"\n",
    "textFile = sc.textFile(filename)\n",
    "header = textFile.take(1)[0]\n",
    "parsedData = textFile.filter(lambda line: line != header).map(lambda line: line.split(','))"
   ]
  },
  {
   "cell_type": "code",
   "execution_count": 6,
   "metadata": {
    "collapsed": true,
    "scrolled": true
   },
   "outputs": [],
   "source": [
    "# convert rdd to spark dataframe\n",
    "data = parsedData.map(lambda p : Row(user_id = p[0], merchant_id = p[1], item_id = p[2], cat_id = p[3], brand_id = p[4], \\\n",
    "                month = p[5], day = p[6], action = p[7], age_range = p[8], gender = p[9], rating = p[10], label = p[11]))\n",
    "\n",
    "\n",
    "# Infer the schema, and register the DataFrame as a table.\n",
    "schemaData = spark.createDataFrame(data)\n",
    "schemaData.createOrReplaceTempView(\"data\")\n",
    "\n",
    "#schemaData.show()"
   ]
  },
  {
   "cell_type": "code",
   "execution_count": 7,
   "metadata": {
    "collapsed": true
   },
   "outputs": [],
   "source": [
    "# generate new features\n",
    "# 1 Monthly click/add/favorite/purchase count for certain brand/ item/ category/ merchant\n",
    "import pyspark.sql.functions as func\n",
    "from pyspark.sql.functions import *\n",
    "for_merchant = schemaData.groupBy(schemaData['merchant_id'],schemaData['month'], schemaData['action']).\\\n",
    "                            agg(count('action').alias(\"monthly_action_count_for_merchant\"))\n",
    "for_brand = schemaData.groupBy(schemaData['brand_id'],schemaData['month'], schemaData['action']).\\\n",
    "                            agg(count('action').alias(\"monthly_action_count_for_brand\"))\n",
    "for_category = schemaData.groupBy(schemaData['cat_id'],schemaData['month'], schemaData['action']).\\\n",
    "                            agg(count('action').alias(\"monthly_action_count_for_cat\"))\n",
    "for_item = schemaData.groupBy(schemaData['item_id'],schemaData['month'], schemaData['action']).\\\n",
    "                            agg(count('action').alias(\"monthly_action_count_for_item\"))\n",
    "\n",
    "\n",
    "addFeature1 = schemaData.join(for_merchant,[\"merchant_id\",\"month\",\"action\"], \"left_outer\")\n",
    "addFeature1 = addFeature1.join(for_brand,[\"brand_id\",\"month\",\"action\"], \"left_outer\")\n",
    "addFeature1 = addFeature1.join(for_category,[\"cat_id\",\"month\",\"action\"], \"left_outer\")\n",
    "addFeature1 = addFeature1.join(for_item,[\"item_id\",\"month\",\"action\"], \"left_outer\")\n",
    "#addFeature1.show()"
   ]
  },
  {
   "cell_type": "code",
   "execution_count": 8,
   "metadata": {
    "collapsed": true
   },
   "outputs": [],
   "source": [
    "#2. User’s monthly action count of click/add/favorite/purchase for all merchant\n",
    "for_user = schemaData.groupBy(schemaData['user_id'],schemaData['month'], schemaData['action']).\\\n",
    "                            agg(count('merchant_id').alias('user_monthly_action'))\n",
    "addFeature2 = addFeature1.join(for_user,['user_id','month','action'], 'left_outer')\n",
    "#addFeature2.show()"
   ]
  },
  {
   "cell_type": "code",
   "execution_count": 9,
   "metadata": {
    "collapsed": true
   },
   "outputs": [],
   "source": [
    "#3.Days of a certains user clicked/added/favorited/purchased items in each month.\n",
    "action_days = schemaData.groupBy(schemaData['user_id'],schemaData['action']).\\\n",
    "                            agg(count('day').alias('user_action_days'))\n",
    "addFeature3 = addFeature2.join(action_days,['user_id','action'], 'left_outer')\n",
    "#addFeature3.show()"
   ]
  },
  {
   "cell_type": "code",
   "execution_count": 10,
   "metadata": {
    "collapsed": true
   },
   "outputs": [],
   "source": [
    "#4.Total number of unique items/brand/category for a merchant\n",
    "unique_items_for_merchant = schemaData.groupBy(schemaData['merchant_id']).\\\n",
    "                            agg(func.countDistinct('item_id').alias('unique_items_for_merchant'))\n",
    "unique_cats_for_merchant = schemaData.groupBy(schemaData['merchant_id']).\\\n",
    "                            agg(func.countDistinct('cat_id').alias('unique_cats_for_merchant'))\n",
    "unique_brands_for_merchant = schemaData.groupBy(schemaData['merchant_id']).\\\n",
    "                            agg(func.countDistinct('brand_id').alias('unique_brands_for_merchant'))\n",
    "\n",
    "addFeature4 = addFeature3.join(unique_items_for_merchant,['merchant_id'], 'left_outer')\n",
    "addFeature4 = addFeature4.join(unique_cats_for_merchant,['merchant_id'], 'left_outer')\n",
    "addFeature4 = addFeature4.join(unique_brands_for_merchant,['merchant_id'], 'left_outer')\n",
    "#addFeature4.show()"
   ]
  },
  {
   "cell_type": "code",
   "execution_count": 11,
   "metadata": {
    "collapsed": true
   },
   "outputs": [
    {
     "name": "stdout",
     "output_type": "stream",
     "text": [
      "+-------+-----+------+-----------+-------+------+--------+---------+---+------+-----+-------------------+---------------------------------+------------------------------+----------------------------+-----------------------------+-------------------+----------------+-------------------------+------------------------+--------------------------+------------------------------+\n",
      "|user_id|month|action|merchant_id|item_id|cat_id|brand_id|age_range|day|gender|label|             rating|monthly_action_count_for_merchant|monthly_action_count_for_brand|monthly_action_count_for_cat|monthly_action_count_for_item|user_monthly_action|user_action_days|unique_items_for_merchant|unique_cats_for_merchant|unique_brands_for_merchant|unique_merchants_in_each_month|\n",
      "+-------+-----+------+-----------+-------+------+--------+---------+---+------+-----+-------------------+---------------------------------+------------------------------+----------------------------+-----------------------------+-------------------+----------------+-------------------------+------------------------+--------------------------+------------------------------+\n",
      "| 100274|   11|     3|       2954| 979358|   192|    1847|        4| 06|     0|    0|0.28878724103980213|                              293|                           283|                         113|                           25|                  2|               2|                      135|                      30|                         4|                             1|\n",
      "| 100274|   11|     3|       2954| 535742|   192|    1847|        4| 06|     0|    0|0.28878724103980213|                              293|                           283|                         113|                           17|                  2|               2|                      135|                      30|                         4|                             1|\n",
      "| 100829|   11|     2|       4579| 306025|   946|    6236|        0| 11|     0|    1| 1.4195920405322404|                               24|                          1258|                        4249|                           14|                  2|               2|                       14|                       1|                         4|                             2|\n",
      "| 100829|   11|     2|       3971| 621666|  1438|    2142|        0| 11|     0|    0| 0.8478234621669136|                              877|                           877|                        6497|                           14|                  2|               2|                      130|                       6|                         2|                             2|\n",
      "| 100835|   11|     0|       2482| 166110|   962|    7993|        3| 11|     0|    0|0.13566764623233818|                             5481|                          5492|                       18685|                          147|                 37|              38|                       74|                      18|                         2|                             1|\n",
      "| 100835|   11|     0|       2482| 792129|   218|    7993|        3| 11|     0|    0|0.13566764623233818|                             5481|                          5492|                        3040|                          157|                 37|              38|                       74|                      18|                         2|                             1|\n",
      "| 100835|   11|     0|       2482| 792129|   218|    7993|        3| 11|     0|    0|0.13566764623233818|                             5481|                          5492|                        3040|                          157|                 37|              38|                       74|                      18|                         2|                             1|\n",
      "| 100835|   11|     0|       2482| 792129|   218|    7993|        3| 11|     0|    0|0.13566764623233818|                             5481|                          5492|                        3040|                          157|                 37|              38|                       74|                      18|                         2|                             1|\n",
      "| 100835|   11|     0|       2482| 792129|   218|    7993|        3| 11|     0|    0|0.13566764623233818|                             5481|                          5492|                        3040|                          157|                 37|              38|                       74|                      18|                         2|                             1|\n",
      "| 100835|   11|     0|       2482| 792129|   218|    7993|        3| 11|     0|    0|0.13566764623233818|                             5481|                          5492|                        3040|                          157|                 37|              38|                       74|                      18|                         2|                             1|\n",
      "| 100835|   11|     0|       2482| 792129|   218|    7993|        3| 11|     0|    0|0.13566764623233818|                             5481|                          5492|                        3040|                          157|                 37|              38|                       74|                      18|                         2|                             1|\n",
      "| 100835|   11|     0|       2482| 792129|   218|    7993|        3| 11|     0|    0|0.13566764623233818|                             5481|                          5492|                        3040|                          157|                 37|              38|                       74|                      18|                         2|                             1|\n",
      "| 100835|   11|     0|       2482| 792129|   218|    7993|        3| 11|     0|    0|0.13566764623233818|                             5481|                          5492|                        3040|                          157|                 37|              38|                       74|                      18|                         2|                             1|\n",
      "| 100835|   11|     0|       2482| 792129|   218|    7993|        3| 11|     0|    0|0.13566764623233818|                             5481|                          5492|                        3040|                          157|                 37|              38|                       74|                      18|                         2|                             1|\n",
      "| 100835|   11|     0|       2482| 792129|   218|    7993|        3| 11|     0|    0|0.13566764623233818|                             5481|                          5492|                        3040|                          157|                 37|              38|                       74|                      18|                         2|                             1|\n",
      "| 100835|   11|     0|       2482| 792129|   218|    7993|        3| 11|     0|    0|0.13566764623233818|                             5481|                          5492|                        3040|                          157|                 37|              38|                       74|                      18|                         2|                             1|\n",
      "| 100835|   11|     0|       2482| 792129|   218|    7993|        3| 11|     0|    0|0.13566764623233818|                             5481|                          5492|                        3040|                          157|                 37|              38|                       74|                      18|                         2|                             1|\n",
      "| 100835|   11|     0|       2482| 792129|   218|    7993|        3| 11|     0|    0|0.13566764623233818|                             5481|                          5492|                        3040|                          157|                 37|              38|                       74|                      18|                         2|                             1|\n",
      "| 100835|   11|     0|       2482| 792129|   218|    7993|        3| 11|     0|    0|0.13566764623233818|                             5481|                          5492|                        3040|                          157|                 37|              38|                       74|                      18|                         2|                             1|\n",
      "| 100835|   11|     0|       2482| 792129|   218|    7993|        3| 11|     0|    0|0.13566764623233818|                             5481|                          5492|                        3040|                          157|                 37|              38|                       74|                      18|                         2|                             1|\n",
      "+-------+-----+------+-----------+-------+------+--------+---------+---+------+-----+-------------------+---------------------------------+------------------------------+----------------------------+-----------------------------+-------------------+----------------+-------------------------+------------------------+--------------------------+------------------------------+\n",
      "only showing top 20 rows\n",
      "\n"
     ]
    }
   ],
   "source": [
    "#5.The number of unique merchant that the user clicked/purchased/added/favourites in each month\n",
    "unique_merchants_in_each_month = schemaData.groupBy(schemaData['user_id'],schemaData['month'],schemaData['action'])\\\n",
    "                            .agg(func.countDistinct('merchant_id').alias('unique_merchants_in_each_month'))\n",
    "\n",
    "addFeature5 = addFeature4.join(unique_merchants_in_each_month,['user_id','month','action'], 'left_outer')\n",
    "addFeature5.show()"
   ]
  },
  {
   "cell_type": "code",
   "execution_count": 12,
   "metadata": {
    "collapsed": true
   },
   "outputs": [],
   "source": [
    "#6. The number of unique user who clicked/purchased/added/favourites for a given items/brands/categories/merchant\n",
    "unique_users_for_item = schemaData.groupBy(schemaData['item_id'],schemaData['action']).\\\n",
    "                        agg(func.countDistinct('user_id').alias('unique_users_for_item'))\n",
    "    \n",
    "unique_users_for_cat = schemaData.groupBy(schemaData['cat_id'],schemaData['action']).\\\n",
    "                        agg(func.countDistinct('user_id').alias('unique_users_for_cat'))\n",
    "    \n",
    "unique_users_for_brand= schemaData.groupBy(schemaData['brand_id'],schemaData['action']).\\\n",
    "                        agg(func.countDistinct('user_id').alias('unique_users_for_brand'))\n",
    "    \n",
    "unique_users_for_merchant = schemaData.groupBy(schemaData['merchant_id'],schemaData['action']).\\\n",
    "                        agg(func.countDistinct('user_id').alias('unique_users_for_merchant'))\n",
    "\n",
    "addFeature6 = addFeature5.join(unique_users_for_item,['item_id','action'], 'left_outer')\n",
    "addFeature6 = addFeature6.join(unique_users_for_cat,['cat_id','action'], 'left_outer')\n",
    "addFeature6 = addFeature6.join(unique_users_for_brand,['brand_id','action'], 'left_outer')\n",
    "addFeature6 = addFeature6.join(unique_users_for_merchant,['merchant_id','action'], 'left_outer')\n",
    "#addFeature6.show()"
   ]
  },
  {
   "cell_type": "code",
   "execution_count": 13,
   "metadata": {
    "collapsed": true
   },
   "outputs": [],
   "source": [
    "#7.Counts of clicked/purchased/added/favorited of items for a certain user on the last Double 11 day\n",
    "filtered = schemaData.filter((schemaData['month'] == 11) & (schemaData['day'] == 11))\n",
    "action_on_double11 = filtered.groupBy(filtered['user_id'],filtered['action']).\\\n",
    "                        agg(func.countDistinct('action').alias('action_on_double11'))\n",
    "addFeature7 = addFeature6.join(action_on_double11,['user_id','action'], 'left_outer')\n",
    "addFeature7 = addFeature7.na.fill(0)\n",
    "#addFeature7.show()"
   ]
  },
  {
   "cell_type": "code",
   "execution_count": 14,
   "metadata": {
    "collapsed": true
   },
   "outputs": [
    {
     "name": "stdout",
     "output_type": "stream",
     "text": [
      "+-----------+------+--------+-------+-------+------+-----+---------+---+------+-----+--------------------+---------------------------------+------------------------------+----------------------------+-----------------------------+-------------------+----------------+-------------------------+------------------------+--------------------------+------------------------------+---------------------+--------------------+----------------------+-------------------------+------------------+----------------------------+-----------------------------+---------------------------+--------------------------------+\n",
      "|merchant_id|cat_id|brand_id|item_id|user_id|action|month|age_range|day|gender|label|              rating|monthly_action_count_for_merchant|monthly_action_count_for_brand|monthly_action_count_for_cat|monthly_action_count_for_item|user_monthly_action|user_action_days|unique_items_for_merchant|unique_cats_for_merchant|unique_brands_for_merchant|unique_merchants_in_each_month|unique_users_for_item|unique_users_for_cat|unique_users_for_brand|unique_users_for_merchant|action_on_double11|user_purchase_item_two_times|user_purchase_brand_two_times|user_purchase_cat_two_times|user_purchase_merchant_two_times|\n",
      "+-----------+------+--------+-------+-------+------+-----+---------+---+------+-----+--------------------+---------------------------------+------------------------------+----------------------------+-----------------------------+-------------------+----------------+-------------------------+------------------------+--------------------------+------------------------------+---------------------+--------------------+----------------------+-------------------------+------------------+----------------------------+-----------------------------+---------------------------+--------------------------------+\n",
      "|       1090|  1028|     837| 333687|  95667|     0|   11|        6| 09|     0|    0| 0.03137037868537485|                             2705|                          2705|                       19453|                            8|                 67|              67|                      123|                       6|                         2|                             2|                    5|                3608|                   215|                      215|                 1|                           0|                            0|                          0|                               0|\n",
      "|       1090|  1028|     837| 333687|  79708|     0|   11|        6| 09|     0|    0| 0.05865208760289074|                             2705|                          2705|                       19453|                            8|                 38|              38|                      123|                       6|                         2|                             1|                    5|                3608|                   215|                      215|                 1|                           0|                            0|                          0|                               0|\n",
      "|       1090|  1028|     837| 333687|  79708|     0|   11|        6| 09|     0|    0| 0.05865208760289074|                             2705|                          2705|                       19453|                            8|                 38|              38|                      123|                       6|                         2|                             1|                    5|                3608|                   215|                      215|                 1|                           0|                            0|                          0|                               0|\n",
      "|       1090|  1028|     837| 333687|  79708|     0|   11|        6| 11|     0|    0| 0.05865208760289074|                             2705|                          2705|                       19453|                            8|                 38|              38|                      123|                       6|                         2|                             1|                    5|                3608|                   215|                      215|                 1|                           0|                            0|                          0|                               0|\n",
      "|       1090|  1028|     837| 333687|  79708|     0|   11|        6| 11|     0|    0| 0.05865208760289074|                             2705|                          2705|                       19453|                            8|                 38|              38|                      123|                       6|                         2|                             1|                    5|                3608|                   215|                      215|                 1|                           0|                            0|                          0|                               0|\n",
      "|       1090|  1028|     837| 333687|  79708|     0|   11|        6| 11|     0|    0| 0.05865208760289074|                             2705|                          2705|                       19453|                            8|                 38|              38|                      123|                       6|                         2|                             1|                    5|                3608|                   215|                      215|                 1|                           0|                            0|                          0|                               0|\n",
      "|       1090|  1028|     837| 333687|  79708|     3|   11|        6| 09|     0|    0| 0.05865208760289074|                               91|                            91|                         498|                            1|                  6|               6|                      123|                       6|                         2|                             1|                    1|                 410|                    50|                       50|                 1|                           0|                            0|                          0|                               0|\n",
      "|       1090|  1028|     837| 333687| 394705|     0|   11|        0| 11|     0|    1| 0.07815073585799359|                             2705|                          2705|                       19453|                            8|                 27|              28|                      123|                       6|                         2|                             1|                    5|                3608|                   215|                      215|                 1|                           0|                            0|                          0|                               0|\n",
      "|       1090|  1028|     837| 333687| 319610|     0|   11|        3| 11|     0|    0| 0.07289723799878518|                             2705|                          2705|                       19453|                            8|                 20|              20|                      123|                       6|                         2|                             1|                    5|                3608|                   215|                      215|                 1|                           0|                            0|                          0|                               0|\n",
      "|       1090|  1028|     837| 333687|  79708|     2|   11|        6| 11|     0|    0| 0.05865208760289074|                              283|                           283|                        2874|                            1|                  4|               4|                      123|                       6|                         2|                             1|                    1|                2485|                   238|                      238|                 1|                           0|                            0|                          0|                               0|\n",
      "|       1090|  1028|     837| 333687|   2234|     0|   10|        4| 22|     0|    0|-0.02972280846210...|                              171|                           171|                        1162|                            1|                  5|               7|                      123|                       6|                         2|                             1|                    5|                3608|                   215|                      215|                 1|                           0|                            0|                          0|                               0|\n",
      "|       1090|  1129|      \"\"| 405702| 338854|     1|   11|        5| 11|     0|    0|  0.1431754380474324|                               10|                          5720|                          11|                            1|                  6|               6|                      123|                       6|                         2|                             2|                    1|                  11|                  4364|                        7|                 1|                           0|                            0|                          0|                               0|\n",
      "|       1090|  1129|      \"\"| 207089| 303153|     1|   11|        0| 10|     1|    0|  0.2314819788007755|                               10|                          5720|                          11|                            1|                  1|               1|                      123|                       6|                         2|                             1|                    1|                  11|                  4364|                        7|                 0|                           0|                            0|                          0|                               0|\n",
      "|       1090|  1129|     837| 405702| 136824|     2|   11|        5| 11|     1|    0|0.016340956985283567|                              283|                           283|                        1378|                           10|                  1|               1|                      123|                       6|                         2|                             1|                   10|                1198|                   238|                      238|                 1|                           0|                            0|                          0|                               0|\n",
      "|       1090|  1129|     837| 405702| 383874|     0|   11|        0| 07|     0|    1| 0.06672420994429329|                             2705|                          2705|                        6037|                           47|                 27|              35|                      123|                       6|                         2|                             1|                   18|                1250|                   215|                      215|                 1|                           0|                            0|                          0|                               0|\n",
      "|       1090|  1129|     837| 405702| 383874|     0|   11|        0| 10|     0|    1| 0.06672420994429329|                             2705|                          2705|                        6037|                           47|                 27|              35|                      123|                       6|                         2|                             1|                   18|                1250|                   215|                      215|                 1|                           0|                            0|                          0|                               0|\n",
      "|       1090|  1129|     837| 405702| 383874|     0|   11|        0| 10|     0|    1| 0.06672420994429329|                             2705|                          2705|                        6037|                           47|                 27|              35|                      123|                       6|                         2|                             1|                   18|                1250|                   215|                      215|                 1|                           0|                            0|                          0|                               0|\n",
      "|       1090|  1129|     837| 405702| 383874|     0|   11|        0| 11|     0|    1| 0.06672420994429329|                             2705|                          2705|                        6037|                           47|                 27|              35|                      123|                       6|                         2|                             1|                   18|                1250|                   215|                      215|                 1|                           0|                            0|                          0|                               0|\n",
      "|       1090|  1129|     837| 405702| 108135|     0|   11|        2| 10|     0|    0| 0.13739557838362138|                             2705|                          2705|                        6037|                           47|                  7|               7|                      123|                       6|                         2|                             1|                   18|                1250|                   215|                      215|                 1|                           0|                            0|                          0|                               0|\n",
      "|       1090|  1129|     837| 405702| 108135|     0|   11|        2| 10|     0|    0| 0.13739557838362138|                             2705|                          2705|                        6037|                           47|                  7|               7|                      123|                       6|                         2|                             1|                   18|                1250|                   215|                      215|                 1|                           0|                            0|                          0|                               0|\n",
      "+-----------+------+--------+-------+-------+------+-----+---------+---+------+-----+--------------------+---------------------------------+------------------------------+----------------------------+-----------------------------+-------------------+----------------+-------------------------+------------------------+--------------------------+------------------------------+---------------------+--------------------+----------------------+-------------------------+------------------+----------------------------+-----------------------------+---------------------------+--------------------------------+\n",
      "only showing top 20 rows\n",
      "\n"
     ]
    }
   ],
   "source": [
    "#8.1 The number of users who bought on at least two different days from items\n",
    "filtered_purchase =  schemaData.filter(schemaData['action'] == 2)\n",
    "purchase_item = filtered_purchase.groupBy(filtered_purchase['item_id'],filtered_purchase['user_id']).\\\n",
    "                            agg(func.countDistinct('day').alias('purchase_days'))\n",
    "purchase_item_two_times = purchase_item.filter(purchase_item['purchase_days'] > 1)\n",
    "user_purchase_item_two_times = purchase_item_two_times.groupBy(purchase_item_two_times['item_id']).\\\n",
    "                            agg(func.countDistinct('user_id').alias('user_purchase_item_two_times'))\n",
    "\n",
    "join_item_purchase = addFeature7.join(user_purchase_item_two_times,['item_id'], 'left_outer')\n",
    "join_item_purchase = join_item_purchase.na.fill(0)\n",
    "\n",
    "#8.2 The number of users who bought on at least two different days from brands\n",
    "purchase_brand = filtered_purchase.groupBy(filtered_purchase['brand_id'],filtered_purchase['user_id']).\\\n",
    "                            agg(func.countDistinct('day').alias('purchase_days'))\n",
    "purchase_brand_two_times = purchase_brand.filter(purchase_brand['purchase_days'] > 1)\n",
    "user_purchase_brand_two_times = purchase_brand_two_times.groupBy(purchase_brand_two_times['brand_id']).\\\n",
    "                            agg(func.countDistinct('user_id').alias('user_purchase_brand_two_times'))\n",
    "\n",
    "join_brand_purchase = join_item_purchase.join(user_purchase_brand_two_times,['brand_id'], 'left_outer')\n",
    "join_brand_purchase = join_brand_purchase.na.fill(0)\n",
    "\n",
    "#8.3 The number of users who bought on at least two different days from categories\n",
    "purchase_cat = filtered_purchase.groupBy(filtered_purchase['cat_id'],filtered_purchase['user_id']).\\\n",
    "                            agg(func.countDistinct('day').alias('purchase_days'))\n",
    "purchase_cat_two_times = purchase_cat.filter(purchase_cat['purchase_days'] > 1)\n",
    "user_purchase_cat_two_times = purchase_cat_two_times.groupBy(purchase_cat_two_times['cat_id']).\\\n",
    "                            agg(func.countDistinct('user_id').alias('user_purchase_cat_two_times'))\n",
    "\n",
    "join_cat_purchase = join_brand_purchase.join(user_purchase_cat_two_times,['cat_id'], 'left_outer')\n",
    "join_cat_purchase = join_cat_purchase.na.fill(0)\n",
    "\n",
    "#8.4 The number of users who bought on at least two different days from merchants\n",
    "purchase_merchant = filtered_purchase.groupBy(filtered_purchase['merchant_id'],filtered_purchase['user_id']).\\\n",
    "                            agg(func.countDistinct('day').alias('purchase_days'))\n",
    "purchase_merchant_two_times = purchase_merchant.filter(purchase_merchant['purchase_days'] > 1)\n",
    "user_purchase_merchant_two_times = purchase_merchant_two_times.groupBy(purchase_merchant_two_times['merchant_id']).\\\n",
    "                            agg(func.countDistinct('user_id').alias('user_purchase_merchant_two_times'))\n",
    "\n",
    "join_merchant_purchase = join_cat_purchase.join(user_purchase_merchant_two_times,['merchant_id'], 'left_outer')\n",
    "join_merchant_purchase = join_merchant_purchase.na.fill(0)\n",
    "\n",
    "join_merchant_purchase.show()"
   ]
  },
  {
   "cell_type": "code",
   "execution_count": 15,
   "metadata": {
    "collapsed": true
   },
   "outputs": [],
   "source": [
    "join_merchant_purchase.coalesce(1).write.format('com.databricks.spark.csv').\\\n",
    "            save('file:///home/hadoop/Jiaoyan/ds504-project/output1',header = 'true')"
   ]
  },
  {
   "cell_type": "code",
   "execution_count": null,
   "metadata": {
    "collapsed": true
   },
   "outputs": [],
   "source": []
  }
 ],
 "metadata": {
  "kernelspec": {
   "display_name": "Python 3",
   "language": "python",
   "name": "python3"
  },
  "language_info": {
   "codemirror_mode": {
    "name": "ipython",
    "version": 3
   },
   "file_extension": ".py",
   "mimetype": "text/x-python",
   "name": "python",
   "nbconvert_exporter": "python",
   "pygments_lexer": "ipython3",
   "version": "3.5.2"
  }
 },
 "nbformat": 4,
 "nbformat_minor": 2
}
